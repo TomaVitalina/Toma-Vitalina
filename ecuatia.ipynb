{
 "cells": [
  {
   "cell_type": "code",
   "execution_count": 2,
   "id": "b956e578",
   "metadata": {},
   "outputs": [
    {
     "name": "stdout",
     "output_type": "stream",
     "text": [
      "7.280109889280518\n"
     ]
    }
   ],
   "source": [
    "x1=1\n",
    "x2=8\n",
    "y1=3\n",
    "y2=5\n",
    "import math\n",
    "a=math.sqrt((x2-x1)**2+(y2-y1)**2)\n",
    "print(a)"
   ]
  },
  {
   "cell_type": "code",
   "execution_count": 10,
   "id": "813d06a1",
   "metadata": {},
   "outputs": [
    {
     "ename": "SyntaxError",
     "evalue": "invalid syntax (<ipython-input-10-0e5aedc6cbb5>, line 5)",
     "output_type": "error",
     "traceback": [
      "\u001b[1;36m  File \u001b[1;32m\"<ipython-input-10-0e5aedc6cbb5>\"\u001b[1;36m, line \u001b[1;32m5\u001b[0m\n\u001b[1;33m    If d > 0:\u001b[0m\n\u001b[1;37m       ^\u001b[0m\n\u001b[1;31mSyntaxError\u001b[0m\u001b[1;31m:\u001b[0m invalid syntax\n"
     ]
    }
   ],
   "source": []
  },
  {
   "cell_type": "code",
   "execution_count": 15,
   "id": "7072920b",
   "metadata": {},
   "outputs": [
    {
     "name": "stdout",
     "output_type": "stream",
     "text": [
      "5.0\n",
      "7.0\n"
     ]
    }
   ],
   "source": [
    "a=1\n",
    "b=-12\n",
    "c=35\n",
    "d = b**2-4*a*c\n",
    "if d > 0:\n",
    "    print((-b-math.sqrt(d))/2*a)\n",
    "    print((-b+math.sqrt(d))/2*a)\n",
    "elif d == 0:\n",
    "    print(x=-b/2*a)\n",
    "else: print('Ecuati nu are solutii')"
   ]
  },
  {
   "cell_type": "code",
   "execution_count": null,
   "id": "31bef73c",
   "metadata": {},
   "outputs": [],
   "source": []
  }
 ],
 "metadata": {
  "kernelspec": {
   "display_name": "Python 3",
   "language": "python",
   "name": "python3"
  },
  "language_info": {
   "codemirror_mode": {
    "name": "ipython",
    "version": 3
   },
   "file_extension": ".py",
   "mimetype": "text/x-python",
   "name": "python",
   "nbconvert_exporter": "python",
   "pygments_lexer": "ipython3",
   "version": "3.7.6"
  }
 },
 "nbformat": 4,
 "nbformat_minor": 5
}
